{
 "cells": [
  {
   "cell_type": "code",
   "execution_count": null,
   "metadata": {},
   "outputs": [],
   "source": [
    "import pandas as pd"
   ]
  },
  {
   "cell_type": "code",
   "execution_count": null,
   "metadata": {},
   "outputs": [],
   "source": [
    "CSV_PATH = \"results/\"\n",
    "csv_names = [\"rnn or lstm or gru\", \"large language model\", \"computer vision\", \"reinforcement learning\"]\n",
    "\n",
    "\n",
    "# concat all csv files. add a column to indicate the search keyword (csv_names)\n",
    "\n",
    "df = pd.DataFrame()\n",
    "for csv_name in csv_names:\n",
    "    df_temp = pd.read_csv(CSV_PATH + csv_name + \".csv\")\n",
    "    df_temp[\"search_keyword\"] = csv_name\n",
    "    df = pd.concat([df, df_temp], ignore_index=True)\n",
    "    \n",
    "df = df.rename(columns={\"id\": \"id_for_search_keyword\"})\n",
    "    \n",
    "df.to_csv(\"result.csv\", index=False)"
   ]
  },
  {
   "cell_type": "code",
   "execution_count": null,
   "metadata": {},
   "outputs": [],
   "source": [
    "# originally_announced_at is the format of \"Submitted 30 September, 1997; originally announced October 1997.\"\n",
    "# extract the date (submitted, originally announced) from string\n",
    "# and convert it to datetime format\n",
    "# remove the original column and add the two columns for the date\n",
    "# because we don't know the day of originally_announced, we set the day to XX (e.g. 1997-10-XX)\n",
    "\n",
    "df[\"submitted\"] = df[\"originally_announced_at\"].str.extract(r\"Submitted (.+?);\")\n",
    "df[\"originally_announced\"] = df[\"originally_announced_at\"].str.extract(r\"originally announced (.+?)\\.\")\n",
    "df[\"submitted\"] = pd.to_datetime(df[\"submitted\"])\n",
    "df[\"originally_announced\"] = pd.to_datetime(df[\"originally_announced\"])\n",
    "df[\"originally_announced\"] = df[\"originally_announced\"].dt.strftime(\"%Y-%m-XX\")\n",
    "df = df.drop(columns=[\"originally_announced_at\"])\n",
    "df.to_csv(\"result.csv\", index=False)"
   ]
  }
 ],
 "metadata": {
  "kernelspec": {
   "display_name": "repo-8h9aDrh7",
   "language": "python",
   "name": "python3"
  },
  "language_info": {
   "codemirror_mode": {
    "name": "ipython",
    "version": 3
   },
   "file_extension": ".py",
   "mimetype": "text/x-python",
   "name": "python",
   "nbconvert_exporter": "python",
   "pygments_lexer": "ipython3",
   "version": "3.11.7"
  }
 },
 "nbformat": 4,
 "nbformat_minor": 2
}
